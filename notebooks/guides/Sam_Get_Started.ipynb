{
 "cells": [
  {
   "cell_type": "markdown",
   "metadata": {},
   "source": [
    "# A short intro to 'where what is' for Sam"
   ]
  },
  {
   "cell_type": "code",
   "execution_count": null,
   "metadata": {},
   "outputs": [],
   "source": [
    "import xarray as xr"
   ]
  },
  {
   "cell_type": "markdown",
   "metadata": {},
   "source": [
    "Generally you will find all my processed data here: `/home/jbusecke/projects/aguadv_omz_busecke_2021/data/processed`"
   ]
  },
  {
   "cell_type": "markdown",
   "metadata": {},
   "source": [
    "## The density-transformed model data (global)\n",
    "\n",
    "`/home/jbusecke/projects/aguadv_omz_busecke_2021/data/processed/density_remapping_time_yearly_final/`\n",
    "\n",
    "This is the fully time resolved data! I also have historical averages\n",
    "\n",
    "## Density transformed obs data (WOA;global)\n",
    "\n",
    "`/home/jbusecke/projects/aguadv_omz_busecke_2021/data/processed/density_remapping_obs/woa13.nc`\n",
    "\n",
    "## Linear trends from 2000-2100 in density coordinates\n",
    "\n",
    "`/home/jbusecke/projects/aguadv_omz_busecke_2021/data/processed/linear_trends_global/...`\n",
    "\n",
    "## ~~Z coordinate obs data~~ (WOA;global)\n",
    "\n",
    "I still need to port this...\n",
    "\n",
    "## Historical mean (1960-2000) in z coordinates (global)\n",
    "\n",
    "You can use `fastjmd95` to reconstruct the potential density (see `projects/aguadv_omz_busecke_2021/notebooks/preprocessing/preprocessing_z_data.ipynb`) for how to do that.\n",
    "\n",
    "These are output for single members, so you have to combine those. I have some code in the work over at [cmip6_preprocessing](https://github.com/jbusecke/cmip6_preprocessing) that will make this easier. Remind me to ping you about that."
   ]
  },
  {
   "cell_type": "code",
   "execution_count": null,
   "metadata": {},
   "outputs": [],
   "source": [
    "ds = xr.open_dataset('/home/jbusecke/projects/aguadv_omz_busecke_2021/data/processed/historical_mean_z/CMIP_CCCma_CanESM5_historical_Omon_gn_v20190429_r10i1p1f1.nc')\n",
    "ds"
   ]
  },
  {
   "cell_type": "code",
   "execution_count": null,
   "metadata": {},
   "outputs": [],
   "source": [
    "ds.thetao.isel(lev=10).plot()"
   ]
  },
  {
   "cell_type": "markdown",
   "metadata": {},
   "source": [
    "## Regridded (horizontally/vertically) historical data (pacific)\n",
    "\n",
    "These are really useful if you want to take averages over models.\n",
    "\n",
    "`/home/jbusecke/projects/aguadv_omz_busecke_2021/data/processed/historical_mean_z_combined/pacific_z_combined.nc`\n",
    "\n",
    "I can easily change `projects/aguadv_omz_busecke_2021/notebooks/preprocessing/preprocessing_z_data.ipynb` to put out global data here! For now I recommend using the data above."
   ]
  },
  {
   "cell_type": "code",
   "execution_count": null,
   "metadata": {},
   "outputs": [],
   "source": []
  },
  {
   "cell_type": "code",
   "execution_count": null,
   "metadata": {},
   "outputs": [],
   "source": []
  },
  {
   "cell_type": "code",
   "execution_count": null,
   "metadata": {},
   "outputs": [],
   "source": []
  }
 ],
 "metadata": {
  "kernelspec": {
   "display_name": "Python [conda env:conda_tigercpu-aguadv_omz_busecke_2021]",
   "language": "python",
   "name": "conda-env-conda_tigercpu-aguadv_omz_busecke_2021-py"
  },
  "language_info": {
   "codemirror_mode": {
    "name": "ipython",
    "version": 3
   },
   "file_extension": ".py",
   "mimetype": "text/x-python",
   "name": "python",
   "nbconvert_exporter": "python",
   "pygments_lexer": "ipython3",
   "version": "3.8.6"
  }
 },
 "nbformat": 4,
 "nbformat_minor": 4
}
