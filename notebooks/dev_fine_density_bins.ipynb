{
 "cells": [
  {
   "cell_type": "markdown",
   "metadata": {},
   "source": [
    "# Determine density bins for the production transform\n",
    "\n",
    "Just a quick notebook to come up with a finer set of density (sigma) bins, which can be combined to match the bins used in Busecke et al., AGU Advances (under review) and the upcoming Ditkovsky et al."
   ]
  },
  {
   "cell_type": "code",
   "execution_count": 1,
   "metadata": {},
   "outputs": [],
   "source": [
    "import numpy as np"
   ]
  },
  {
   "cell_type": "code",
   "execution_count": 2,
   "metadata": {},
   "outputs": [],
   "source": [
    "# old version\n",
    "sigma_bins_busecke = np.array([0, 24.5, 26.5, 27.65, 100])\n",
    "\n",
    "sigma_bins_ditkovsky = np.array([0, 23.0, 24.5, 25.5, 26.5, 26.65, 26.7, 27.4, 27.65, 27.8, 100])"
   ]
  },
  {
   "cell_type": "code",
   "execution_count": 3,
   "metadata": {},
   "outputs": [],
   "source": [
    "# new version\n",
    "from cmip6_omz.omz_tools import sigma_bins\n",
    "sigma_bins_fine = sigma_bins()"
   ]
  },
  {
   "cell_type": "markdown",
   "metadata": {},
   "source": [
    "Check explicitly that all the old values are in the new one"
   ]
  },
  {
   "cell_type": "code",
   "execution_count": 5,
   "metadata": {},
   "outputs": [],
   "source": [
    "def bounds_within(subset, full):\n",
    "    return all([any([np.isclose(s,ss) for ss in full]) for s in subset])\n",
    "\n",
    "for bins in [sigma_bins_busecke, sigma_bins_ditkovsky]:\n",
    "    assert bounds_within(bins, sigma_bins_fine)"
   ]
  }
 ],
 "metadata": {
  "kernelspec": {
   "display_name": "Python [conda env:conda_tigressdata-busecke_etal_2021_aguadv_new]",
   "language": "python",
   "name": "conda-env-conda_tigressdata-busecke_etal_2021_aguadv_new-py"
  },
  "language_info": {
   "codemirror_mode": {
    "name": "ipython",
    "version": 3
   },
   "file_extension": ".py",
   "mimetype": "text/x-python",
   "name": "python",
   "nbconvert_exporter": "python",
   "pygments_lexer": "ipython3",
   "version": "3.9.6"
  }
 },
 "nbformat": 4,
 "nbformat_minor": 4
}
