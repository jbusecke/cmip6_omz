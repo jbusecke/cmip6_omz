{
 "cells": [
  {
   "cell_type": "code",
   "execution_count": 1,
   "metadata": {},
   "outputs": [
    {
     "data": {
      "text/plain": [
       "'2021.05.0'"
      ]
     },
     "execution_count": 1,
     "metadata": {},
     "output_type": "execute_result"
    }
   ],
   "source": [
    "import dask\n",
    "dask.__version__"
   ]
  },
  {
   "cell_type": "code",
   "execution_count": 4,
   "metadata": {},
   "outputs": [
    {
     "name": "stdout",
     "output_type": "stream",
     "text": [
      "The autoreload extension is already loaded. To reload it, use:\n",
      "  %reload_ext autoreload\n"
     ]
    },
    {
     "data": {
      "text/plain": [
       "<dask.config.set at 0x7f0c087f4820>"
      ]
     },
     "execution_count": 4,
     "metadata": {},
     "output_type": "execute_result"
    }
   ],
   "source": [
    "%load_ext autoreload\n",
    "%autoreload 2\n",
    "\n",
    "import numpy as np\n",
    "import dask\n",
    "import time\n",
    "import shutil\n",
    "import warnings\n",
    "import xarray as xr\n",
    "\n",
    "import matplotlib.pyplot as plt\n",
    "from fastjmd95 import rho\n",
    "import fastjmd95\n",
    "\n",
    "assert fastjmd95.__version__ >= \"0.2.1\"\n",
    "# import fastjmd95 #quick fix? https://github.com/dask/distributed/issues/3450#issuecomment-584739501\n",
    "# Nope\n",
    "from multiprocessing.pool import ThreadPool\n",
    "from dask.diagnostics import ProgressBar\n",
    "import matplotlib.pyplot as plt\n",
    "\n",
    "from xgcm import Grid\n",
    "from fastprogress.fastprogress import progress_bar\n",
    "\n",
    "from xarrayutils.file_handling import (\n",
    "    write,\n",
    "    maybe_create_folder,\n",
    "    file_exist_check,\n",
    "    temp_write_split,\n",
    ")\n",
    "from xarrayutils.utils import remove_bottom_values\n",
    "\n",
    "\n",
    "from aguadv_omz_busecke_2021.vertical_transformation import (\n",
    "    xgcm_transform_wrapper as transform_wrapper,\n",
    ")\n",
    "\n",
    "import sys\n",
    "sys.path.append(\"../../cmip6_omz\")\n",
    "\n",
    "#from aguadv_omz_busecke_2021.datasets import woa13\n",
    "from datasets import woa13\n",
    "\n",
    "\n",
    "from aguadv_omz_busecke_2021.utils import print_html\n",
    "from aguadv_omz_busecke_2021.preprocessing import (\n",
    "    mixed_layer_wrapper,\n",
    "    save_and_reload_rechunker,\n",
    "    preprocessing_wrapper,\n",
    "    strip_encoding,\n",
    ")\n",
    "from aguadv_omz_busecke_2021.omz_tools import (\n",
    "    volume_consistency_checks,\n",
    "    plot_omz_results,\n",
    "    omz_thickness,\n",
    ")\n",
    "from aguadv_omz_busecke_2021.cmip6_stash import (\n",
    "    detrend,\n",
    "    construct_cfdate,\n",
    "    _get_calendar,\n",
    "    cmip6_dataset_id,\n",
    "    combined_preprocessing,\n",
    "    load_single_datasets,\n",
    "    nested_dataset_wrapper,\n",
    "    match_and_detrend,\n",
    "    combine_grid_labels,\n",
    "    parse_metrics,\n",
    ")\n",
    "\n",
    "dask.config.set(pool=ThreadPool(32))"
   ]
  },
  {
   "cell_type": "code",
   "execution_count": 5,
   "metadata": {},
   "outputs": [],
   "source": [
    "def transform_wrapper_again(\n",
    "    ds_in,\n",
    "    intensive_vars=[\n",
    "        \"thetao\",\n",
    "        \"o2\",\n",
    "        \"so\",\n",
    "        \"agessc\",\n",
    "    ],\n",
    "):\n",
    "    # alternate name: transform mean wrapper\n",
    "    # sigma_bins\n",
    "    sigma_bins = np.array([0, 24.5, 26.5, 27.65, 100])\n",
    "\n",
    "    # define variables to be averaged (intensive quantities)\n",
    "    intensive_vars = [\n",
    "        \"thetao\",\n",
    "        \"o2\",\n",
    "        \"so\",\n",
    "        \"agessc\",\n",
    "    ]  # add 'uo', 'agessc' etc?\n",
    "\n",
    "    intensive_vars = [v for v in intensive_vars if v in ds_in.data_vars]\n",
    "\n",
    "    for iv in intensive_vars:\n",
    "        dz = (xr.ones_like(ds_in[iv]) * ds_in.dz_t).where(~np.isnan(ds_in[iv]))\n",
    "        ds_in[iv] = ds_in[iv] * dz\n",
    "\n",
    "    with warnings.catch_warnings():\n",
    "        warnings.simplefilter(\"ignore\")\n",
    "        ds_out = transform_wrapper(\n",
    "            ds_in,\n",
    "            extensive_vars=[\"omz_thickness\"] + intensive_vars,\n",
    "            target=sigma_bins,\n",
    "        )\n",
    "\n",
    "    # reconvert the same variables\n",
    "    dz = ds_out.dz_t\n",
    "    for iv in intensive_vars:\n",
    "        ds_out[iv] = ds_out[iv] / dz\n",
    "    return ds_out"
   ]
  },
  {
   "cell_type": "code",
   "execution_count": 6,
   "metadata": {},
   "outputs": [
    {
     "name": "stderr",
     "output_type": "stream",
     "text": [
      "/home/samjd/anaconda3/envs/cmip6_omz/lib/python3.9/site-packages/xarrayutils/file_handling.py:118: UserWarning: Folder /tigress/GEOCLIM/LRGROUP/samjd/global_omz/density_remapping_obs does already exist.\n",
      "  warnings.warn(f\"Folder {path} does already exist.\", UserWarning)\n"
     ]
    }
   ],
   "source": [
    "foldername = \"density_remapping_obs\"\n",
    "ofolder = maybe_create_folder(f\"/tigress/GEOCLIM/LRGROUP/samjd/global_omz/{foldername}\")"
   ]
  },
  {
   "cell_type": "code",
   "execution_count": 18,
   "metadata": {},
   "outputs": [
    {
     "name": "stderr",
     "output_type": "stream",
     "text": [
      "/home/samjd/anaconda3/envs/cmip6_omz/lib/python3.9/site-packages/xarray/core/indexing.py:1379: PerformanceWarning: Slicing is producing a large chunk. To accept the large\n",
      "chunk and silence this warning, set the option\n",
      "    >>> with dask.config.set(**{'array.slicing.split_large_chunks': False}):\n",
      "    ...     array[indexer]\n",
      "\n",
      "To avoid creating the large chunks, set the option\n",
      "    >>> with dask.config.set(**{'array.slicing.split_large_chunks': True}):\n",
      "    ...     array[indexer]\n",
      "  return self.array[key]\n",
      "/home/samjd/anaconda3/envs/cmip6_omz/lib/python3.9/site-packages/xarray/core/indexing.py:1379: PerformanceWarning: Slicing is producing a large chunk. To accept the large\n",
      "chunk and silence this warning, set the option\n",
      "    >>> with dask.config.set(**{'array.slicing.split_large_chunks': False}):\n",
      "    ...     array[indexer]\n",
      "\n",
      "To avoid creating the large chunks, set the option\n",
      "    >>> with dask.config.set(**{'array.slicing.split_large_chunks': True}):\n",
      "    ...     array[indexer]\n",
      "  return self.array[key]\n",
      "/home/samjd/anaconda3/envs/cmip6_omz/lib/python3.9/site-packages/xarray/core/indexing.py:1379: PerformanceWarning: Slicing is producing a large chunk. To accept the large\n",
      "chunk and silence this warning, set the option\n",
      "    >>> with dask.config.set(**{'array.slicing.split_large_chunks': False}):\n",
      "    ...     array[indexer]\n",
      "\n",
      "To avoid creating the large chunks, set the option\n",
      "    >>> with dask.config.set(**{'array.slicing.split_large_chunks': True}):\n",
      "    ...     array[indexer]\n",
      "  return self.array[key]\n",
      "/home/samjd/anaconda3/envs/cmip6_omz/lib/python3.9/site-packages/xarray/core/indexing.py:1379: PerformanceWarning: Slicing is producing a large chunk. To accept the large\n",
      "chunk and silence this warning, set the option\n",
      "    >>> with dask.config.set(**{'array.slicing.split_large_chunks': False}):\n",
      "    ...     array[indexer]\n",
      "\n",
      "To avoid creating the large chunks, set the option\n",
      "    >>> with dask.config.set(**{'array.slicing.split_large_chunks': True}):\n",
      "    ...     array[indexer]\n",
      "  return self.array[key]\n",
      "../../cmip6_omz/datasets.py:31: UserWarning: No bounds found for lon and lat. Reconstructing with a very simplified method. Check results carefully.\n",
      "  warnings.warn(\n"
     ]
    },
    {
     "name": "stdout",
     "output_type": "stream",
     "text": [
      "[########################################] | 100% Completed |  1min 22.3s\n",
      "[########################################] | 100% Completed |  1.9s\n",
      "$ Saving 0.52670322GB to /tigress/GEOCLIM/LRGROUP/samjd/global_omz/density_remapping_obs/woa13.nc\n"
     ]
    },
    {
     "name": "stderr",
     "output_type": "stream",
     "text": [
      "/home/samjd/anaconda3/envs/cmip6_omz/lib/python3.9/site-packages/numba/np/ufunc/gufunc.py:151: RuntimeWarning: invalid value encountered in _interp_1d_linear\n",
      "  return self.ufunc(*args, **kwargs)\n",
      "/home/samjd/anaconda3/envs/cmip6_omz/lib/python3.9/site-packages/dask/core.py:121: RuntimeWarning: invalid value encountered in true_divide\n",
      "  return func(*(_execute_task(a, cache) for a in args))\n"
     ]
    },
    {
     "name": "stdout",
     "output_type": "stream",
     "text": [
      "$ Reloading file\n"
     ]
    }
   ],
   "source": [
    "woa = woa13().drop('time')\n",
    "woa['sigma_0'] = (fastjmd95.rho(woa.so, woa.thetao, 0) - 1000)\n",
    "woa = woa.rename({'thkcello':'dz_t'})\n",
    "woa = woa.chunk({'lev':-1,'x':180})\n",
    "woa['omz_thickness'] = omz_thickness(woa)#, o2_bins=o2_bins)\n",
    "\n",
    "woa_sigma = transform_wrapper_again(woa, intensive_vars=[va for va in woa.data_vars if va not in ['omz_thickness']])\n",
    "\n",
    "# confirm that the volume is conserved\n",
    "with ProgressBar():\n",
    "    vol_sigma = (woa_sigma.omz_thickness * woa_sigma.areacello).sum(['x','y','sigma_0']).load()\n",
    "    vol_z = (woa.omz_thickness * woa.areacello).sum(['x', 'y', 'lev']).load()\n",
    "    \n",
    "assert (((vol_z - vol_sigma)/vol_z*100)<1.0).all() #failed 0.5, change to 1.\n",
    "\n",
    "fname = ofolder.joinpath('woa13.nc')\n",
    "woa_sigma = write(woa_sigma, fname, overwrite=True)"
   ]
  }
 ],
 "metadata": {
  "kernelspec": {
   "display_name": "cmip6_omz",
   "language": "python",
   "name": "cmip6_omz"
  },
  "language_info": {
   "codemirror_mode": {
    "name": "ipython",
    "version": 3
   },
   "file_extension": ".py",
   "mimetype": "text/x-python",
   "name": "python",
   "nbconvert_exporter": "python",
   "pygments_lexer": "ipython3",
   "version": "3.9.4"
  }
 },
 "nbformat": 4,
 "nbformat_minor": 2
}
